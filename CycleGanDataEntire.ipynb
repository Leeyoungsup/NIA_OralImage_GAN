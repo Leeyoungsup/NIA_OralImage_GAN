{
 "cells": [
  {
   "cell_type": "code",
   "execution_count": 2,
   "metadata": {},
   "outputs": [],
   "source": [
    "import numpy as np\n",
    "import slideio\n",
    "import cv2\n",
    "import json\n",
    "import matplotlib.path as mpltPath\n",
    "import os\n",
    "import warnings\n",
    "import tifffile\n",
    "import staintools\n",
    "from skimage import exposure\n",
    "from skimage.exposure import match_histograms\n",
    "import xml.etree.ElementTree as ET\n",
    "import pandas as pd\n",
    "from math import sqrt\n",
    "import matplotlib.pyplot as plt"
   ]
  },
  {
   "cell_type": "code",
   "execution_count": 3,
   "metadata": {},
   "outputs": [],
   "source": [
    "MMRstatus_data=pd.read_csv('../MMRstatus.csv',encoding='cp949')\n",
    "P53_data=pd.read_csv('../P53.csv',encoding='cp949')\n"
   ]
  },
  {
   "cell_type": "code",
   "execution_count": 4,
   "metadata": {},
   "outputs": [],
   "source": [
    "warnings.filterwarnings(action='ignore')\n",
    "files = os.listdir('../svs_data/')\n",
    "svs_files=[]\n",
    "xml_files=[]\n",
    "for i in range(len(files)):\n",
    "    svs_class=files[i].find('.svs')\n",
    "    xml_class=files[i].find('.xml')\n",
    "    if svs_class!=-1:\n",
    "        svs_files.append(files[i])\n",
    "    elif xml_class!=-1:\n",
    "        xml_files.append(files[i])\n",
    "def createDirectory(directory):\n",
    "    try:\n",
    "        if not os.path.exists(directory):\n",
    "            os.makedirs(directory)\n",
    "    except OSError:\n",
    "        print(\"Error: Failed to create the directory.\")   "
   ]
  },
  {
   "cell_type": "code",
   "execution_count": 5,
   "metadata": {},
   "outputs": [
    {
     "name": "stdout",
     "output_type": "stream",
     "text": [
      "S11-05332-14\n",
      "S11-15498-10\n",
      "S11-33397-4\n",
      "S13-17955-15\n",
      "S13-19937-23\n",
      "S14-06111-6\n",
      "S14-12060-8\n",
      "S14-13997-MG2\n",
      "S15-03278-8\n",
      "S15-04670-1\n",
      "S15-06063-2\n",
      "S15-14451-5\n",
      "S16-09007-10\n",
      "S16-11048-7\n",
      "S16-31691-3R\n",
      "S16-34098-7\n",
      "S17-15502-5\n",
      "S17-31741-4\n",
      "S17-31741-6\n",
      "S18-03134-6\n",
      "S18-04157-7\n",
      "S18-05617-4\n",
      "S18-06033-MG13\n",
      "S18-10844-11R\n",
      "S19-06858-5\n",
      "S20-04323-11\n",
      "S20-07219-9\n",
      "S20-17152-5\n",
      "S21-01603-9\n",
      "S21-02295-9\n",
      "S22-14885-9R\n",
      "S22-15572-17\n"
     ]
    }
   ],
   "source": [
    "size=512\n",
    "tmp_img=cv2.imread('./temp2.5x.tiff')\n",
    "normalizer= staintools.StainNormalizer('vahadane')\n",
    "normalizer.fit(tmp_img)\n",
    "for i in range(len(svs_files)):\n",
    "    try:\n",
    "        file_extension_index=svs_files[i].find('.svs')\n",
    "        fileName=svs_files[i][:file_extension_index]\n",
    "        slideName=svs_files[i][:9]\n",
    "        slide = slideio.open_slide('../svs_data/'+fileName+'.svs', \"SVS\")\n",
    "        scene = slide.get_scene(0)\n",
    "        svsWidth = scene.rect[2]\n",
    "        svsHeight = scene.rect[3]\n",
    "        widthRatio=size/svsWidth\n",
    "        heightRatio=size/svsHeight \n",
    "        if(svsHeight>svsWidth):\n",
    "            RatioMax=heightRatio\n",
    "            RatioIndex=\"H\"\n",
    "        else:\n",
    "            RatioMax=widthRatio\n",
    "            RatioIndex=\"W\"\n",
    "        imageCount=0\n",
    "        srcImg = np.ones((size,size,3),dtype = np.uint8)*255\n",
    "        path=[]\n",
    "        dstWidth=int(svsWidth*RatioMax)\n",
    "        dstHeight=int(svsHeight*RatioMax)\n",
    "        thumbnailImg=scene.read_block((0,0,svsWidth,svsHeight),size=(dstWidth,dstHeight ))\n",
    "        if(RatioIndex=='H'):\n",
    "            srcImg[:,int((size-dstWidth)/2):int((size+dstWidth)/2)]=thumbnailImg\n",
    "        else:\n",
    "            srcImg[int((size-dstHeight)/2):int((size+dstHeight)/2),:]=thumbnailImg            \n",
    "        srcImg=cv2.cvtColor(srcImg,cv2.COLOR_BGR2RGB)\n",
    "        dstImg = normalizer.transform(srcImg)\n",
    "        file_extension_index=svs_files[i].find('.svs')\n",
    "        fileName=svs_files[i][:file_extension_index]\n",
    "        cv2.imwrite('../data/CycleGan/entire/input/'+fileName+'.tiff',srcImg)\n",
    "        cv2.imwrite('../data/CycleGan/entire/output/'+fileName+'.tiff',dstImg)\n",
    "    except:\n",
    "        file_extension_index=svs_files[i].find('.svs')\n",
    "        fileName=svs_files[i][:file_extension_index]\n",
    "        print(fileName)"
   ]
  }
 ],
 "metadata": {
  "kernelspec": {
   "display_name": "LeeYS",
   "language": "python",
   "name": "python3"
  },
  "language_info": {
   "codemirror_mode": {
    "name": "ipython",
    "version": 3
   },
   "file_extension": ".py",
   "mimetype": "text/x-python",
   "name": "python",
   "nbconvert_exporter": "python",
   "pygments_lexer": "ipython3",
   "version": "3.6.12"
  },
  "orig_nbformat": 4
 },
 "nbformat": 4,
 "nbformat_minor": 2
}
